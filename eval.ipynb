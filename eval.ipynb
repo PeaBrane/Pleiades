{
 "cells": [
  {
   "cell_type": "code",
   "execution_count": 27,
   "metadata": {},
   "outputs": [],
   "source": [
    "import tonic\n",
    "import tonic.transforms as TT\n",
    "import torch\n",
    "from torch.nn import functional as F\n",
    "torch.set_grad_enabled(False)\n",
    "\n",
    "import model\n",
    "import importlib\n",
    "importlib.reload(model)\n",
    "from model import PleiadesClassifier"
   ]
  },
  {
   "cell_type": "code",
   "execution_count": 28,
   "metadata": {},
   "outputs": [],
   "source": [
    "transform = TT.Compose([\n",
    "    TT.CropTime(max=1500000-1), \n",
    "    TT.ToFrame(tonic.datasets.DVSGesture.sensor_size, time_window=10000, include_incomplete=True)\n",
    "])\n",
    "\n",
    "dataset = tonic.datasets.DVSGesture('.', train=False, transform=transform)"
   ]
  },
  {
   "cell_type": "code",
   "execution_count": 29,
   "metadata": {},
   "outputs": [
    {
     "data": {
      "text/plain": [
       "<All keys matched successfully>"
      ]
     },
     "execution_count": 29,
     "metadata": {},
     "output_type": "execute_result"
    }
   ],
   "source": [
    "gesture_net = PleiadesClassifier(\n",
    "    in_channels=2, \n",
    "    num_classes=10, \n",
    "    channels=[8, 16, 32, 48, 64, 80, 96, 112, 128, 256], \n",
    "    features=256, \n",
    "    depthwises=[False, False, True, True, True], \n",
    "    kernel_size=(3, 3, 10), \n",
    "    stride=(2, 2, 1), \n",
    "    padding=(1, 1, 0), \n",
    ")\n",
    "gesture_net.eval()\n",
    "\n",
    "weights = torch.load('dvs128_ckpt.pt')\n",
    "gesture_net.load_state_dict(weights)"
   ]
  },
  {
   "cell_type": "code",
   "execution_count": 35,
   "metadata": {},
   "outputs": [],
   "source": [
    "dataloader = torch.utils.data.DataLoader(dataset, batch_size=8, drop_last=False)\n",
    "gesture_net = gesture_net.cuda()\n",
    "offset = 44  # the causal context window of the network\n",
    "\n",
    "predictions, labels = [], []\n",
    "for (events, label) in dataloader:\n",
    "    events = events.float().cuda().moveaxis(1, -1)\n",
    "    events = F.pad(events, (offset, 0))\n",
    "    predictions.append(gesture_net(events).argmax(1).detach().cpu())\n",
    "    labels.append(label)\n",
    "    \n",
    "predictions, labels = torch.cat(predictions), torch.cat(labels)\n",
    "\n",
    "mask = (labels != 10)\n",
    "labels = labels[mask]\n",
    "predictions = predictions[mask]"
   ]
  },
  {
   "cell_type": "code",
   "execution_count": 36,
   "metadata": {},
   "outputs": [],
   "source": [
    "accs = []\n",
    "for latency in range(predictions.shape[-1]):\n",
    "    if latency <= offset:\n",
    "        pred = predictions[:, latency]\n",
    "    else:\n",
    "        pred = predictions[:, offset:].mode(-1)[0]\n",
    "    acc = (pred == labels).float().mean()\n",
    "    accs.append(acc)\n",
    "accs = torch.stack(accs)"
   ]
  },
  {
   "cell_type": "code",
   "execution_count": 38,
   "metadata": {},
   "outputs": [
    {
     "data": {
      "text/plain": [
       "Text(0, 0.5, 'accuracy')"
      ]
     },
     "execution_count": 38,
     "metadata": {},
     "output_type": "execute_result"
    },
    {
     "data": {
      "image/png": "[encoded data removed]",
      "text/plain": [
       "<Figure size 640x480 with 1 Axes>"
      ]
     },
     "metadata": {},
     "output_type": "display_data"
    }
   ],
   "source": [
    "from matplotlib import pyplot as plt\n",
    "\n",
    "plt.plot(torch.arange(len(accs)) * 10, accs)\n",
    "plt.xlabel('latency (ms)')\n",
    "plt.ylabel('accuracy')"
   ]
  },
  {
   "cell_type": "code",
   "execution_count": null,
   "metadata": {},
   "outputs": [],
   "source": []
  }
 ],
 "metadata": {
  "kernelspec": {
   "display_name": "torch2.2.1",
   "language": "python",
   "name": "python3"
  },
  "language_info": {
   "codemirror_mode": {
    "name": "ipython",
    "version": 3
   },
   "file_extension": ".py",
   "mimetype": "text/x-python",
   "name": "python",
   "nbconvert_exporter": "python",
   "pygments_lexer": "ipython3",
   "version": "3.10.14"
  }
 },
 "nbformat": 4,
 "nbformat_minor": 2
}
